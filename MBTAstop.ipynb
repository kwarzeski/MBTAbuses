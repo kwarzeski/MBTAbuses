{
  "nbformat": 4,
  "nbformat_minor": 0,
  "metadata": {
    "colab": {
      "provenance": []
    },
    "kernelspec": {
      "name": "python3",
      "display_name": "Python 3"
    },
    "language_info": {
      "name": "python"
    }
  },
  "cells": [
    {
      "cell_type": "code",
      "execution_count": 35,
      "metadata": {
        "id": "CUfpcB-x4avG"
      },
      "outputs": [],
      "source": [
        "import requests\n",
        "from datetime import datetime, timezone, timedelta\n",
        "import math"
      ]
    },
    {
      "cell_type": "code",
      "source": [
        "# Starting URL for MBTA  API Call.\n",
        "url = \"https://api-v3.mbta.com\""
      ],
      "metadata": {
        "id": "2lTDoY8K5Nfg"
      },
      "execution_count": 36,
      "outputs": []
    },
    {
      "cell_type": "code",
      "source": [
        "# Make a 'Get' request for the routes.\n",
        "# Center on Watertown Square for testing. sort by soonest departure time. include stop information\n",
        "center_loc = [42.365165,-71.1850722]\n",
        "query = \"/predictions?sort=departure_time&include=stop%2Croute&filter%5Blatitude%5D=42.365165&filter%5Blongitude%5D=-71.1850722&filter%5Bradius%5D=0.005\"\n",
        "queryResults = requests.get(url+query)"
      ],
      "metadata": {
        "id": "WONQQyvw57-q"
      },
      "execution_count": 37,
      "outputs": []
    },
    {
      "cell_type": "code",
      "source": [
        "# Get the JSON of the 'Get' request.\n",
        "predictions = [x for x in queryResults.json()['data'] if x['attributes']['departure_time'] != None]\n",
        "stops = {x['id']:x['attributes'] for x in queryResults.json()['included'] if x['type']==\"stop\"}\n",
        "routes = {x['id']:x['attributes'] for x in queryResults.json()['included'] if x['type']==\"route\"}"
      ],
      "metadata": {
        "id": "Sy4Tz5f06hRZ"
      },
      "execution_count": 38,
      "outputs": []
    },
    {
      "cell_type": "code",
      "source": [
        "#Get the distance from the location. Using watertown square for testing\n",
        "for stop in stops:\n",
        "  # print(stops[stop]['name'])\n",
        "  # print(stops[stop]['latitude'])\n",
        "  # print(stops[stop]['longitude'])\n",
        "  stop_loc = [stops[stop]['latitude'],stops[stop]['longitude']]\n",
        "  # print(math.dist(stop_loc, center_loc))\n",
        "  stops[stop]['distance'] = math.dist(stop_loc, center_loc)"
      ],
      "metadata": {
        "id": "JNNsBFv0tdf8"
      },
      "execution_count": 39,
      "outputs": []
    },
    {
      "cell_type": "code",
      "source": [
        "# each trip gets one prediction in the newPredictionDict - the one closest to the location\n",
        "newPredictionDict = {}\n",
        "for prediction in predictions:\n",
        "  trip = str(prediction['relationships']['trip']['data']['id'])\n",
        "  if trip in newPredictionDict:\n",
        "    # if the trip has an entry in the list, compare the distance between the stops\n",
        "    oldStopID = newPredictionDict[trip]['relationships']['stop']['data']['id']\n",
        "    newStopID = prediction['relationships']['stop']['data']['id']\n",
        "    # if stop in the dict is farther than the new stop, replace it\n",
        "    if (stops[oldStopID]['distance'] > stops[newStopID]['distance']):\n",
        "      newPredictionDict[trip] = prediction\n",
        "  else:\n",
        "    # otherwise, add the trip to the dict\n",
        "    newPredictionDict[trip] = prediction"
      ],
      "metadata": {
        "id": "YweJOZ7hwLgN"
      },
      "execution_count": 40,
      "outputs": []
    },
    {
      "cell_type": "code",
      "source": [
        "# time display configurations\n",
        "timezone_offset = -4.0\n",
        "tzinfo = timezone(timedelta(hours=timezone_offset))\n",
        "now = datetime.now(tzinfo)\n",
        "# datetime.fromisoformat(predictions[1]['attributes']['departure_time']) - now\n",
        "\n",
        "# Build a new dict. Each Route gets two predictions for each direction\n",
        "displayDict = {}\n",
        "for predict in newPredictionDict:\n",
        "  x = newPredictionDict[predict]\n",
        "  d = datetime.fromisoformat(x['attributes']['departure_time'])\n",
        "  # only display trips in the future in the next 20 minutes\n",
        "  if d < now + timedelta(minutes=20):\n",
        "    route_ID = x['relationships']['route']['data']['id']\n",
        "    route = routes[route_ID]\n",
        "    stop_ID = x['relationships']['stop']['data']['id']\n",
        "    stop = stops[stop_ID]\n",
        "    routeDisplayKey = route['short_name'] + \"_\" + str(x['attributes']['direction_id'])\n",
        "    if not(routeDisplayKey in displayDict):\n",
        "      routeDisplay = {\n",
        "          \"bus\":route['fare_class'] + \" \" + route['short_name'] + \" \" + route['direction_names'][x['attributes']['direction_id']],\n",
        "          \"destination\":route['direction_destinations'][x['attributes']['direction_id']],\n",
        "          \"stop\":stop['name'],\n",
        "          \"departure_time\":datetime.fromisoformat(x['attributes']['departure_time']).strftime(\"%I:%M %p\")\n",
        "      }\n",
        "      displayDict[routeDisplayKey] = [routeDisplay]\n",
        "    elif (len(displayDict[routeDisplayKey])<2):\n",
        "      routeDisplay = {\n",
        "          \"bus\":route['fare_class'] + \" \" + route['short_name'] + \" \" + route['direction_names'][x['attributes']['direction_id']],\n",
        "          \"destination\":route['direction_destinations'][x['attributes']['direction_id']],\n",
        "          \"stop\":stop['name'],\n",
        "          \"departure_time\":datetime.fromisoformat(x['attributes']['departure_time']).strftime(\"%I:%M %p\")\n",
        "      }\n",
        "      displayDict[routeDisplayKey].append(routeDisplay)\n",
        "    # print(route['fare_class'] + \" \" + route['short_name'] + \" \" + route['direction_names'][x['attributes']['direction_id']] + \" towards \" + route['direction_destinations'][x['attributes']['direction_id']])\n",
        "    # depart_time = datetime.fromisoformat(x['attributes']['departure_time'])\n",
        "    # print(\"Departs from \" + stop['name']+ \" at \" + depart_time.strftime(\"%I:%M %p\"))\n",
        "    # print(\" - \" )\n"
      ],
      "metadata": {
        "id": "VWb44Qg9pN9U"
      },
      "execution_count": 41,
      "outputs": []
    },
    {
      "cell_type": "code",
      "source": [
        "for route in displayDict:\n",
        "  line = displayDict[route]\n",
        "  print(line[0][\"bus\"] + \" toward \" + line[0][\"destination\"])\n",
        "  for stop in line:\n",
        "    print(\"Departs from \" + stop['stop']+ \" at \" + stop['departure_time'])\n",
        "  print(\"--\")"
      ],
      "metadata": {
        "colab": {
          "base_uri": "https://localhost:8080/"
        },
        "id": "kqyQtdM6s383",
        "outputId": "968fef5c-48cb-426f-bc84-9d239441ab12"
      },
      "execution_count": 42,
      "outputs": [
        {
          "output_type": "stream",
          "name": "stdout",
          "text": [
            "Local Bus 57 Inbound toward Kenmore Station\n",
            "Departs from Watertown Yard at 09:50 PM\n",
            "Departs from Watertown Yard at 10:00 PM\n",
            "--\n",
            "Local Bus 71 Outbound toward Watertown Square\n",
            "Departs from Mt Auburn St @ Main St at 09:52 PM\n",
            "--\n",
            "Local Bus 70 Inbound toward University Park\n",
            "Departs from Main St @ Cross St at 09:55 PM\n",
            "--\n",
            "Local Bus 71 Inbound toward Harvard Station\n",
            "Departs from Watertown Sq Terminal at 09:58 PM\n",
            "--\n"
          ]
        }
      ]
    }
  ]
}